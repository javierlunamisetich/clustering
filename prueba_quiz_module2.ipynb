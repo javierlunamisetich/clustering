{
 "cells": [
  {
   "cell_type": "code",
   "execution_count": 51,
   "metadata": {},
   "outputs": [],
   "source": [
    "import numpy as np\n",
    "from math import sqrt"
   ]
  },
  {
   "cell_type": "code",
   "execution_count": 3,
   "metadata": {},
   "outputs": [
    {
     "name": "stdout",
     "output_type": "stream",
     "text": [
      "the quick brown fox jumps over the lazy dog\n"
     ]
    }
   ],
   "source": [
    "sentence_1 = 'The quick brown fox jumps over the lazy dog'\n",
    "sentence_2 = 'A quick brown dog outpaces a quick fox'\n",
    "\n",
    "sentence_1 = sentence_1.lower()\n",
    "sentence_2 = sentence_2.lower()\n",
    "\n",
    "print sentence_1\n"
   ]
  },
  {
   "cell_type": "code",
   "execution_count": 4,
   "metadata": {},
   "outputs": [
    {
     "name": "stdout",
     "output_type": "stream",
     "text": [
      "['the', 'quick', 'brown', 'fox', 'jumps', 'over', 'the', 'lazy', 'dog']\n"
     ]
    }
   ],
   "source": [
    "token_1 = sentence_1.split()\n",
    "token_2 = sentence_2.split()\n",
    "\n",
    "print token_1"
   ]
  },
  {
   "cell_type": "code",
   "execution_count": 46,
   "metadata": {},
   "outputs": [
    {
     "name": "stdout",
     "output_type": "stream",
     "text": [
      "['the', 'quick', 'brown', 'fox', 'jumps', 'over', 'lazy', 'dog']\n",
      "['a', 'quick', 'brown', 'dog', 'outpaces', 'fox']\n"
     ]
    }
   ],
   "source": [
    "unique_1 = []\n",
    "\n",
    "for word in token_1:\n",
    "    if word not in unique_1:\n",
    "        unique_1.append(word)\n",
    "\n",
    "unique_2 = []\n",
    "\n",
    "for word in token_2:\n",
    "    if word not in unique_2:\n",
    "        unique_2.append(word)\n",
    "\n",
    "print unique_1\n",
    "print unique_2\n",
    "\n"
   ]
  },
  {
   "cell_type": "code",
   "execution_count": 45,
   "metadata": {},
   "outputs": [
    {
     "name": "stdout",
     "output_type": "stream",
     "text": [
      "['the', 'quick', 'brown', 'fox', 'jumps', 'over', 'lazy', 'dog', 'a', 'outpaces']\n"
     ]
    }
   ],
   "source": [
    "bag = []\n",
    "for word in unique_1:\n",
    "    bag.append(word)\n",
    "for word in unique_2:\n",
    "    if word not in bag:\n",
    "        bag.append(word)\n",
    "print bag"
   ]
  },
  {
   "cell_type": "code",
   "execution_count": 56,
   "metadata": {},
   "outputs": [
    {
     "name": "stdout",
     "output_type": "stream",
     "text": [
      "[2. 1. 1. 1. 1. 1. 1. 1. 0. 0.]\n",
      "[0. 2. 1. 1. 0. 0. 0. 1. 2. 1.]\n"
     ]
    }
   ],
   "source": [
    "counter_1 = np.zeros(len(bag))\n",
    "i=0\n",
    "for word in bag:\n",
    "    counter_1[i] = token_1.count(word)\n",
    "    i += 1\n",
    "counter_2 = np.zeros(len(bag))\n",
    "i=0\n",
    "for word in bag:\n",
    "    counter_2[i] = token_2.count(word)\n",
    "    i += 1\n",
    "print counter_1\n",
    "print counter_2"
   ]
  },
  {
   "cell_type": "code",
   "execution_count": 59,
   "metadata": {},
   "outputs": [
    {
     "name": "stdout",
     "output_type": "stream",
     "text": [
      "3.606\n"
     ]
    }
   ],
   "source": [
    "distance=sqrt(sum((counter_1-counter_2)**2))\n",
    "print round(distance,3)"
   ]
  },
  {
   "cell_type": "code",
   "execution_count": 60,
   "metadata": {},
   "outputs": [],
   "source": [
    "norm_1 = sqrt(sum(counter_1**2))\n",
    "norm_2 = sqrt(sum(counter_2**2))"
   ]
  },
  {
   "cell_type": "code",
   "execution_count": 64,
   "metadata": {},
   "outputs": [],
   "source": [
    "cos_distance = np.dot(counter_1,counter_2)\n",
    "cos_distance = cos_distance/(norm_1*norm_2)\n",
    "\n",
    "cos_distance = 1 - cos_distance"
   ]
  },
  {
   "cell_type": "code",
   "execution_count": 65,
   "metadata": {},
   "outputs": [
    {
     "name": "stdout",
     "output_type": "stream",
     "text": [
      "0.5648058601107554\n"
     ]
    }
   ],
   "source": [
    "print cos_distance"
   ]
  },
  {
   "cell_type": "code",
   "execution_count": null,
   "metadata": {},
   "outputs": [],
   "source": []
  }
 ],
 "metadata": {
  "kernelspec": {
   "display_name": "Python 2",
   "language": "python",
   "name": "python2"
  },
  "language_info": {
   "codemirror_mode": {
    "name": "ipython",
    "version": 2
   },
   "file_extension": ".py",
   "mimetype": "text/x-python",
   "name": "python",
   "nbconvert_exporter": "python",
   "pygments_lexer": "ipython2",
   "version": "2.7.16"
  }
 },
 "nbformat": 4,
 "nbformat_minor": 2
}
